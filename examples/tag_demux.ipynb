{
 "cells": [
  {
   "cell_type": "markdown",
   "metadata": {},
   "source": [
    "# An example tag analysis pipeline"
   ]
  },
  {
   "cell_type": "markdown",
   "metadata": {},
   "source": [
    "## Importing"
   ]
  },
  {
   "cell_type": "code",
   "execution_count": null,
   "metadata": {
    "scrolled": false
   },
   "outputs": [],
   "source": [
    "import os\n",
    "\n",
    "import numpy\n",
    "\n",
    "from pepars.utils import Illumina_FASTQ_File_Set\n",
    "from pepars.fileio import fileio\n",
    "from pepars.analysis import sequencing_reads as sequencing_reads_analysis\n",
    "\n",
    "from pepars.plotting import plotting\n",
    "from pepars.plotting import DNA as DNA_plotting\n",
    "plotting.init_notebook_mode()\n",
    "\n",
    "from scrap import chromium\n",
    "from scrap import tags"
   ]
  },
  {
   "cell_type": "markdown",
   "metadata": {},
   "source": [
    "## Get your data"
   ]
  },
  {
   "cell_type": "code",
   "execution_count": null,
   "metadata": {
    "scrolled": false
   },
   "outputs": [],
   "source": [
    "# Download example data\n",
    "\n",
    "EXAMPLE_FILES = {\n",
    "    \"TAG_EXAMPLE_S1_L001_I1_001.fastq.gz\": \"https://caltech.box.com/shared/static/0844pu7uru75sh114d440ddroed84cwa.gz\",\n",
    "    \"TAG_EXAMPLE_S1_L001_R1_001.fastq.gz\": \"https://caltech.box.com/shared/static/vgamut6dzebb13q0vtag8domi6b49pql.gz\",\n",
    "    \"TAG_EXAMPLE_S1_L001_R2_001.fastq.gz\": \"https://caltech.box.com/shared/static/vn4h9tvswaye32i5oqd304jqywlkg95j.gz\"\n",
    "}\n",
    "\n",
    "for file_name, remote_file_URL in EXAMPLE_FILES.items():\n",
    "    \n",
    "    file_download_path = os.path.join(\"data\", file_name)\n",
    "    \n",
    "    fileio.download_remote_file(\n",
    "        file_URL=remote_file_URL,\n",
    "        file_path=file_download_path\n",
    "    )\n",
    "    \n",
    "tag_file_name = \"LMO.Barcode.Info.csv\"\n",
    "\n",
    "tag_file_path = os.path.join(\"data\", tag_file_name)\n",
    "tag_file_remote_URL = \"https://caltech.box.com/shared/static/bfwabx39pwrg94zri5fuxugo51ed77an.csv\"\n",
    "\n",
    "fileio.download_remote_file(\n",
    "    file_URL=tag_file_remote_URL,\n",
    "    file_path=tag_file_path\n",
    ")"
   ]
  },
  {
   "cell_type": "markdown",
   "metadata": {},
   "source": [
    "## Put data in a FASTQ File Set"
   ]
  },
  {
   "cell_type": "code",
   "execution_count": null,
   "metadata": {
    "scrolled": false
   },
   "outputs": [],
   "source": [
    "# To specify a FASTQ file set, give it the directory of where the FASTQ files are contained, and the\n",
    "# prefix Illumina project name\n",
    "\n",
    "FASTQ_file_set = Illumina_FASTQ_File_Set(\"data\", \"TAG_EXAMPLE\")"
   ]
  },
  {
   "cell_type": "markdown",
   "metadata": {},
   "source": [
    "# Sequencing QC"
   ]
  },
  {
   "cell_type": "code",
   "execution_count": null,
   "metadata": {
    "scrolled": false
   },
   "outputs": [],
   "source": [
    "# Print out a few of the sequences just to see what they look like\n",
    "\n",
    "read_index = 0\n",
    "\n",
    "for sequences in FASTQ_file_set.get_sequence_iterator():\n",
    "    \n",
    "    print(\"Index read: %s\" % sequences[0])\n",
    "    print(\"Read 1: %s\" % sequences[1])\n",
    "    print(\"Read 2: %s\" % sequences[2])\n",
    "    \n",
    "    read_index += 1\n",
    "    \n",
    "    if read_index > 5:\n",
    "        break\n",
    "\n",
    "for file in FASTQ_file_set.files:\n",
    "    file.close()\n",
    "    \n",
    "FASTQ_file_set.close()"
   ]
  },
  {
   "cell_type": "code",
   "execution_count": null,
   "metadata": {
    "scrolled": false
   },
   "outputs": [],
   "source": [
    "# Inspect the quality score distribution of all FASTQ files\n",
    "\n",
    "for file in FASTQ_file_set.files:\n",
    "    quality_score_distribution = sequencing_reads_analysis.get_quality_score_distribution(file.file_path)\n",
    "    DNA_plotting.plot_quality_score_distribution(quality_score_distribution, sample_name=file.file_name, interactive=True)"
   ]
  },
  {
   "cell_type": "code",
   "execution_count": null,
   "metadata": {
    "scrolled": false
   },
   "outputs": [],
   "source": [
    "# Inspect the nucleotide distribution of all FASTQ files\n",
    "\n",
    "for file in FASTQ_file_set.files:\n",
    "    nucleotide_distribution = sequencing_reads_analysis.get_nucleotide_distribution(file.file_path)\n",
    "    DNA_plotting.plot_nucleotide_prevalence_bar_chart(nucleotide_distribution, sample_name=file.file_name, interactive=True)"
   ]
  },
  {
   "cell_type": "markdown",
   "metadata": {},
   "source": [
    "## Data prep"
   ]
  },
  {
   "cell_type": "markdown",
   "metadata": {},
   "source": [
    "### Load tags from a file"
   ]
  },
  {
   "cell_type": "code",
   "execution_count": null,
   "metadata": {
    "scrolled": false
   },
   "outputs": [],
   "source": [
    "tags_from_file = []\n",
    "\n",
    "with open(tag_file_path) as tag_file:\n",
    "    for line in tag_file.readlines():\n",
    "        tags_from_file.append(line.strip().split(\",\")[-1])\n",
    "    tags_from_file = tags_from_file[1:]"
   ]
  },
  {
   "cell_type": "markdown",
   "metadata": {},
   "source": [
    "### Set your cell barcode whitelist"
   ]
  },
  {
   "cell_type": "code",
   "execution_count": null,
   "metadata": {
    "scrolled": false
   },
   "outputs": [],
   "source": [
    "# In this example, we don't have transcriptome data, so we get the 10x Chromium whitelist\n",
    "VALID_CELL_BARCODES = chromium.get_chromium_barcodes(chromium_version=3)"
   ]
  },
  {
   "cell_type": "markdown",
   "metadata": {},
   "source": [
    "## User Parameters"
   ]
  },
  {
   "cell_type": "code",
   "execution_count": null,
   "metadata": {
    "scrolled": false
   },
   "outputs": [],
   "source": [
    "# Filter sequences out that do not match this index. If you do not have an index sequence, or you have already\n",
    "# demultiplexed your sample data, you can set this to None\n",
    "INDEX_SEQUENCE = \"ATCACGAT\"\n",
    "\n",
    "# Select which tags are valid for this analysis. You can always filter this out later\n",
    "VALID_TAGS = tags_from_file\n",
    "\n",
    "# How close a tag sequence must be to a valid tag. Can be None, 1, or 2\n",
    "MAXIMUM_TAG_DISTANCE = 1\n",
    "\n",
    "# How close the index read must be to the index sequence. Can be None, 1, or 2\n",
    "MAXIMUM_INDEX_DISTANCE = 1\n",
    "\n",
    "# How close the cell barcode read must be to a valid cell barcode. Can be None, 1, or 2\n",
    "MAXIMUM_CELL_BARCODE_DISTANCE = 0\n",
    "\n",
    "# Throw away sequences that have any quality scores less than this. Set to None to disregard\n",
    "QUALITY_THRESHOLD = None\n",
    "\n",
    "# Whether or not to collapse UMIs to be considered as a single read\n",
    "COLLAPSE_UMIS = True\n",
    "\n",
    "# Whether or not to perform PCR error correction\n",
    "ERROR_CORRECT = False"
   ]
  },
  {
   "cell_type": "markdown",
   "metadata": {},
   "source": [
    "## Get cell tag counts"
   ]
  },
  {
   "cell_type": "code",
   "execution_count": null,
   "metadata": {
    "scrolled": false
   },
   "outputs": [],
   "source": [
    "cell_tag_counts = tags.get_cell_tag_counts(\n",
    "    FASTQ_file_set,\n",
    "    valid_cell_barcode_trie=VALID_CELL_BARCODES,\n",
    "    valid_tags=VALID_TAGS,\n",
    "    index_sequence=INDEX_SEQUENCE,\n",
    "    maximum_tag_distance=MAXIMUM_TAG_DISTANCE,\n",
    "    maximum_index_distance=MAXIMUM_INDEX_DISTANCE,\n",
    "    maximum_cell_barcode_distance=MAXIMUM_CELL_BARCODE_DISTANCE,\n",
    "    quality_threshold=QUALITY_THRESHOLD,\n",
    "    collapse_UMIs=COLLAPSE_UMIS,\n",
    "    error_correct=ERROR_CORRECT\n",
    ")"
   ]
  },
  {
   "cell_type": "markdown",
   "metadata": {},
   "source": [
    "## Inspect the tag results"
   ]
  },
  {
   "cell_type": "code",
   "execution_count": null,
   "metadata": {
    "scrolled": false
   },
   "outputs": [],
   "source": [
    "cell_tag_counts"
   ]
  },
  {
   "cell_type": "code",
   "execution_count": null,
   "metadata": {
    "scrolled": false
   },
   "outputs": [],
   "source": [
    "# Plot the counts of each tag\n",
    "plotting.plot_bar_chart(cell_tag_counts.sum(axis=0), cell_tag_counts.columns, interactive=True)"
   ]
  },
  {
   "cell_type": "markdown",
   "metadata": {},
   "source": [
    "## Clean up extraneous tags"
   ]
  },
  {
   "cell_type": "code",
   "execution_count": null,
   "metadata": {
    "scrolled": false
   },
   "outputs": [],
   "source": [
    "# How many tags are expected. We will filter out all but the top tags\n",
    "NUM_TAGS_EXPECTED = 6\n",
    "NUM_CELLS_EXPECTED = 5000"
   ]
  },
  {
   "cell_type": "code",
   "execution_count": null,
   "metadata": {
    "scrolled": false
   },
   "outputs": [],
   "source": [
    "# Filter out tags other than\n",
    "cell_tag_counts = cell_tag_counts.loc[:, cell_tag_counts.sum(axis=0).sort_values(ascending=False)[0:NUM_TAGS_EXPECTED].index]"
   ]
  },
  {
   "cell_type": "code",
   "execution_count": null,
   "metadata": {},
   "outputs": [],
   "source": [
    "cell_tag_counts"
   ]
  },
  {
   "cell_type": "markdown",
   "metadata": {},
   "source": [
    "## Inspect tag count distribution"
   ]
  },
  {
   "cell_type": "code",
   "execution_count": null,
   "metadata": {
    "scrolled": false
   },
   "outputs": [],
   "source": [
    "# Plot a histogram of total tag counts\n",
    "plotting.plot_histogram(cell_tag_counts.sum(axis=1), num_bins=1000, interactive=True, x_axis_title=\"Num total tag reads in a cell\", y_axis_title=\"# Cells\")"
   ]
  },
  {
   "cell_type": "code",
   "execution_count": null,
   "metadata": {
    "scrolled": false
   },
   "outputs": [],
   "source": [
    "# Plot a histogram of total tag counts\n",
    "plotting.plot_histogram(cell_tag_counts.sum(axis=1), num_bins=1000, interactive=True, log_scale=True, x_axis_title=\"Num tag reads in a cell\", y_axis_title=\"# Cells\")"
   ]
  },
  {
   "cell_type": "code",
   "execution_count": null,
   "metadata": {
    "scrolled": false
   },
   "outputs": [],
   "source": [
    "# Find a desirable cutoff\n",
    "\n",
    "num_cells_per_cutoff = []\n",
    "cell_total_tag_counts = cell_tag_counts.sum(axis=1)\n",
    "cutoffs = numpy.arange(0, cell_total_tag_counts.max().max(), 1)\n",
    "\n",
    "estimated_tag_count_cutoff = None\n",
    "\n",
    "for cutoff in cutoffs:\n",
    "    num_cells = (cell_total_tag_counts > cutoff).sum()\n",
    "    num_cells_per_cutoff.append(num_cells)\n",
    "    if not estimated_tag_count_cutoff and num_cells < NUM_CELLS_EXPECTED:\n",
    "        estimated_tag_count_cutoff = cutoff - 1\n",
    "    \n",
    "plotting.plot_scatter(cutoffs, num_cells_per_cutoff, interactive=True, x_axis_title=\"Cutoff\", y_axis_title=\"# Cells\")\n",
    "\n",
    "print(\"Assuming %i cells, estimating tag cutoff as %i\" % (NUM_CELLS_EXPECTED, estimated_tag_count_cutoff))"
   ]
  },
  {
   "cell_type": "code",
   "execution_count": null,
   "metadata": {
    "scrolled": false
   },
   "outputs": [],
   "source": [
    "TAG_COUNT_CUTOFF = estimated_tag_count_cutoff"
   ]
  },
  {
   "cell_type": "code",
   "execution_count": null,
   "metadata": {
    "scrolled": false
   },
   "outputs": [],
   "source": [
    "for tag in cell_tag_counts.columns:\n",
    "    plotting.plot_histogram(\n",
    "        cell_tag_counts[cell_tag_counts.sum(axis=1) > TAG_COUNT_CUTOFF][tag],\n",
    "        interactive=True,\n",
    "        num_bins=1000,\n",
    "        log_scale=False,\n",
    "        title=\"%s Count Distribution\" % tag\n",
    "    )"
   ]
  }
 ],
 "metadata": {
  "kernelspec": {
   "display_name": "Python 3",
   "language": "python",
   "name": "python3"
  },
  "language_info": {
   "codemirror_mode": {
    "name": "ipython",
    "version": 3
   },
   "file_extension": ".py",
   "mimetype": "text/x-python",
   "name": "python",
   "nbconvert_exporter": "python",
   "pygments_lexer": "ipython3",
   "version": "3.6.7"
  }
 },
 "nbformat": 4,
 "nbformat_minor": 2
}
