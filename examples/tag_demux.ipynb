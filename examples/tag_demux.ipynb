{
 "cells": [
  {
   "cell_type": "markdown",
   "metadata": {},
   "source": [
    "# An example tag analysis pipeline"
   ]
  },
  {
   "cell_type": "markdown",
   "metadata": {},
   "source": [
    "## Importing"
   ]
  },
  {
   "cell_type": "code",
   "execution_count": null,
   "metadata": {
    "scrolled": false
   },
   "outputs": [],
   "source": [
    "import os\n",
    "\n",
    "import numpy\n",
    "import pandas\n",
    "\n",
    "from pepars.utils import Illumina_FASTQ_File_Set\n",
    "from pepars.fileio import fileio\n",
    "from pepars.analysis import sequencing_reads as sequencing_reads_analysis\n",
    "\n",
    "from pepars.plotting import plotting\n",
    "from pepars.plotting import DNA as DNA_plotting\n",
    "plotting.init_notebook_mode()\n",
    "\n",
    "from scrap import chromium\n",
    "from scrap import tags"
   ]
  },
  {
   "cell_type": "markdown",
   "metadata": {},
   "source": [
    "## Get your data"
   ]
  },
  {
   "cell_type": "code",
   "execution_count": null,
   "metadata": {
    "scrolled": false
   },
   "outputs": [],
   "source": [
    "# Download example data\n",
    "\n",
    "EXAMPLE_FILES = {\n",
    "    \"TAG_EXAMPLE_S1_L001_I1_001.fastq.gz\": \"https://caltech.box.com/shared/static/0844pu7uru75sh114d440ddroed84cwa.gz\",\n",
    "    \"TAG_EXAMPLE_S1_L001_R1_001.fastq.gz\": \"https://caltech.box.com/shared/static/vgamut6dzebb13q0vtag8domi6b49pql.gz\",\n",
    "    \"TAG_EXAMPLE_S1_L001_R2_001.fastq.gz\": \"https://caltech.box.com/shared/static/vn4h9tvswaye32i5oqd304jqywlkg95j.gz\"\n",
    "}\n",
    "\n",
    "for file_name, remote_file_URL in EXAMPLE_FILES.items():\n",
    "    \n",
    "    file_download_path = os.path.join(\"data\", file_name)\n",
    "    \n",
    "    fileio.download_remote_file(\n",
    "        file_URL=remote_file_URL,\n",
    "        file_path=file_download_path\n",
    "    )\n",
    "    \n",
    "tag_file_name = \"LMO.Barcode.Info.csv\"\n",
    "\n",
    "tag_file_path = os.path.join(\"data\", tag_file_name)\n",
    "tag_file_remote_URL = \"https://caltech.box.com/shared/static/bfwabx39pwrg94zri5fuxugo51ed77an.csv\"\n",
    "\n",
    "fileio.download_remote_file(\n",
    "    file_URL=tag_file_remote_URL,\n",
    "    file_path=tag_file_path\n",
    ")"
   ]
  },
  {
   "cell_type": "markdown",
   "metadata": {},
   "source": [
    "## Put data in a FASTQ File Set"
   ]
  },
  {
   "cell_type": "code",
   "execution_count": null,
   "metadata": {
    "scrolled": false
   },
   "outputs": [],
   "source": [
    "# To specify a FASTQ file set, give it the directory of where the FASTQ files are contained, and the\n",
    "# prefix Illumina project name\n",
    "\n",
    "FASTQ_file_set = Illumina_FASTQ_File_Set(\"data\", \"TAG_EXAMPLE\")"
   ]
  },
  {
   "cell_type": "markdown",
   "metadata": {},
   "source": [
    "# Sequencing QC"
   ]
  },
  {
   "cell_type": "code",
   "execution_count": null,
   "metadata": {
    "scrolled": false
   },
   "outputs": [],
   "source": [
    "# Print out a few of the sequences just to see what they look like\n",
    "\n",
    "read_index = 0\n",
    "\n",
    "for sequences in FASTQ_file_set.get_sequence_iterator():\n",
    "    \n",
    "    print(\"Index read: %s\" % sequences[0])\n",
    "    print(\"Read 1: %s\" % sequences[1])\n",
    "    print(\"Read 2: %s\" % sequences[2])\n",
    "    \n",
    "    read_index += 1\n",
    "    \n",
    "    if read_index > 5:\n",
    "        break\n",
    "\n",
    "for file in FASTQ_file_set.files:\n",
    "    file.close()\n",
    "    \n",
    "FASTQ_file_set.close()"
   ]
  },
  {
   "cell_type": "code",
   "execution_count": null,
   "metadata": {
    "scrolled": false
   },
   "outputs": [],
   "source": [
    "# Inspect the quality score distribution of all FASTQ files\n",
    "\n",
    "for file in FASTQ_file_set.files:\n",
    "    quality_score_distribution = sequencing_reads_analysis.get_quality_score_distribution(file.file_path)\n",
    "    DNA_plotting.plot_quality_score_distribution(quality_score_distribution, sample_name=file.file_name, interactive=True)"
   ]
  },
  {
   "cell_type": "code",
   "execution_count": null,
   "metadata": {
    "scrolled": false
   },
   "outputs": [],
   "source": [
    "# Inspect the nucleotide distribution of all FASTQ files\n",
    "\n",
    "for file in FASTQ_file_set.files:\n",
    "    nucleotide_distribution = sequencing_reads_analysis.get_nucleotide_distribution(file.file_path)\n",
    "    DNA_plotting.plot_nucleotide_prevalence_bar_chart(nucleotide_distribution, sample_name=file.file_name, interactive=True)"
   ]
  },
  {
   "cell_type": "markdown",
   "metadata": {},
   "source": [
    "## Data prep"
   ]
  },
  {
   "cell_type": "markdown",
   "metadata": {},
   "source": [
    "### Load tags from a file"
   ]
  },
  {
   "cell_type": "code",
   "execution_count": null,
   "metadata": {
    "scrolled": false
   },
   "outputs": [],
   "source": [
    "tags_from_file = []\n",
    "\n",
    "with open(tag_file_path) as tag_file:\n",
    "    for line in tag_file.readlines():\n",
    "        tags_from_file.append(line.strip().split(\",\")[-1])\n",
    "    tags_from_file = tags_from_file[1:]"
   ]
  },
  {
   "cell_type": "markdown",
   "metadata": {},
   "source": [
    "### Set your cell barcode whitelist"
   ]
  },
  {
   "cell_type": "code",
   "execution_count": null,
   "metadata": {
    "scrolled": false
   },
   "outputs": [],
   "source": [
    "# In this example, we don't have transcriptome data, so we get the 10x Chromium whitelist\n",
    "VALID_CELL_BARCODES = chromium.get_chromium_barcodes(chromium_version=3)"
   ]
  },
  {
   "cell_type": "markdown",
   "metadata": {},
   "source": [
    "## User Parameters"
   ]
  },
  {
   "cell_type": "code",
   "execution_count": null,
   "metadata": {
    "scrolled": false
   },
   "outputs": [],
   "source": [
    "# Filter sequences out that do not match this index. If you do not have an index sequence, or you have already\n",
    "# demultiplexed your sample data, you can set this to None\n",
    "INDEX_SEQUENCE = \"ATCACGAT\"\n",
    "\n",
    "# Select which tags are valid for this analysis. You can always filter this out later\n",
    "VALID_TAGS = tags_from_file\n",
    "\n",
    "# How close a tag sequence must be to a valid tag. Can be None, 1, or 2\n",
    "MAXIMUM_TAG_DISTANCE = 1\n",
    "\n",
    "# How close the index read must be to the index sequence. Can be None, 1, or 2\n",
    "MAXIMUM_INDEX_DISTANCE = 1\n",
    "\n",
    "# How close the cell barcode read must be to a valid cell barcode. Can be None, 1, or 2\n",
    "MAXIMUM_CELL_BARCODE_DISTANCE = 0\n",
    "\n",
    "# Throw away sequences that have any quality scores less than this. Set to None to disregard\n",
    "QUALITY_THRESHOLD = None\n",
    "\n",
    "# Whether or not to collapse UMIs to be considered as a single read\n",
    "COLLAPSE_UMIS = True\n",
    "\n",
    "# Whether or not to perform PCR error correction\n",
    "ERROR_CORRECT = False"
   ]
  },
  {
   "cell_type": "markdown",
   "metadata": {},
   "source": [
    "## Get cell tag counts"
   ]
  },
  {
   "cell_type": "code",
   "execution_count": null,
   "metadata": {
    "scrolled": false
   },
   "outputs": [],
   "source": [
    "cell_tag_counts = tags.get_cell_tag_counts(\n",
    "    FASTQ_file_set,\n",
    "    valid_cell_barcode_trie=VALID_CELL_BARCODES,\n",
    "    valid_tags=VALID_TAGS,\n",
    "    index_sequence=INDEX_SEQUENCE,\n",
    "    maximum_tag_distance=MAXIMUM_TAG_DISTANCE,\n",
    "    maximum_index_distance=MAXIMUM_INDEX_DISTANCE,\n",
    "    maximum_cell_barcode_distance=MAXIMUM_CELL_BARCODE_DISTANCE,\n",
    "    quality_threshold=QUALITY_THRESHOLD,\n",
    "    collapse_UMIs=COLLAPSE_UMIS,\n",
    "    error_correct=ERROR_CORRECT\n",
    ")"
   ]
  },
  {
   "cell_type": "markdown",
   "metadata": {},
   "source": [
    "## Inspect the tag results"
   ]
  },
  {
   "cell_type": "code",
   "execution_count": null,
   "metadata": {
    "scrolled": false
   },
   "outputs": [],
   "source": [
    "cell_tag_counts"
   ]
  },
  {
   "cell_type": "code",
   "execution_count": null,
   "metadata": {
    "scrolled": false
   },
   "outputs": [],
   "source": [
    "# Plot the counts of each tag\n",
    "plotting.plot_bar_chart(cell_tag_counts.sum(axis=0), cell_tag_counts.columns, interactive=True)"
   ]
  },
  {
   "cell_type": "markdown",
   "metadata": {},
   "source": [
    "## Clean up extraneous tags"
   ]
  },
  {
   "cell_type": "code",
   "execution_count": null,
   "metadata": {
    "scrolled": false
   },
   "outputs": [],
   "source": [
    "# How many tags are expected. We will filter out all but the top tags\n",
    "NUM_TAGS_EXPECTED = 6\n",
    "NUM_CELLS_EXPECTED = 5000"
   ]
  },
  {
   "cell_type": "code",
   "execution_count": null,
   "metadata": {
    "scrolled": false
   },
   "outputs": [],
   "source": [
    "# Filter out tags other than\n",
    "cell_tag_counts = cell_tag_counts.loc[:, cell_tag_counts.sum(axis=0).sort_values(ascending=False)[0:NUM_TAGS_EXPECTED].index]"
   ]
  },
  {
   "cell_type": "code",
   "execution_count": null,
   "metadata": {},
   "outputs": [],
   "source": [
    "cell_tag_counts"
   ]
  },
  {
   "cell_type": "markdown",
   "metadata": {},
   "source": [
    "## Inspect tag count distribution"
   ]
  },
  {
   "cell_type": "code",
   "execution_count": null,
   "metadata": {
    "scrolled": false
   },
   "outputs": [],
   "source": [
    "# Plot a histogram of total tag counts\n",
    "plotting.plot_histogram(cell_tag_counts.sum(axis=1), num_bins=1000, interactive=True, x_axis_title=\"Num total tag reads in a cell\", y_axis_title=\"# Cells\")"
   ]
  },
  {
   "cell_type": "code",
   "execution_count": null,
   "metadata": {
    "scrolled": false
   },
   "outputs": [],
   "source": [
    "# Plot a histogram of total tag counts\n",
    "plotting.plot_histogram(cell_tag_counts.sum(axis=1), num_bins=1000, interactive=True, log_scale=True, x_axis_title=\"Num tag reads in a cell\", y_axis_title=\"# Cells\")"
   ]
  },
  {
   "cell_type": "code",
   "execution_count": null,
   "metadata": {
    "scrolled": false
   },
   "outputs": [],
   "source": [
    "# Find a desirable cutoff\n",
    "\n",
    "num_cells_per_cutoff = []\n",
    "cell_total_tag_counts = cell_tag_counts.sum(axis=1)\n",
    "cutoffs = numpy.arange(0, cell_total_tag_counts.max().max(), 1)\n",
    "\n",
    "estimated_tag_count_cutoff = None\n",
    "\n",
    "for cutoff in cutoffs:\n",
    "    num_cells = (cell_total_tag_counts > cutoff).sum()\n",
    "    num_cells_per_cutoff.append(num_cells)\n",
    "    if not estimated_tag_count_cutoff and num_cells < NUM_CELLS_EXPECTED:\n",
    "        estimated_tag_count_cutoff = cutoff - 1\n",
    "    \n",
    "plotting.plot_scatter(cutoffs, num_cells_per_cutoff, interactive=True, x_axis_title=\"Cutoff\", y_axis_title=\"# Cells\")\n",
    "\n",
    "print(\"Assuming %i cells, estimating tag cutoff as %i\" % (NUM_CELLS_EXPECTED, estimated_tag_count_cutoff))"
   ]
  },
  {
   "cell_type": "code",
   "execution_count": null,
   "metadata": {
    "scrolled": false
   },
   "outputs": [],
   "source": [
    "TAG_COUNT_CUTOFF = estimated_tag_count_cutoff"
   ]
  },
  {
   "cell_type": "code",
   "execution_count": null,
   "metadata": {
    "scrolled": false
   },
   "outputs": [],
   "source": [
    "top_cell_tag_counts = cell_tag_counts[cell_tag_counts.sum(axis=1) > TAG_COUNT_CUTOFF]\n",
    "\n",
    "for tag in cell_tag_counts.columns:\n",
    "    plotting.plot_histogram(\n",
    "        top_cell_tag_counts[tag],\n",
    "        interactive=True,\n",
    "        num_bins=1000,\n",
    "        log_scale=False,\n",
    "        title=\"%s Count Distribution\" % tag\n",
    "    )"
   ]
  },
  {
   "cell_type": "code",
   "execution_count": null,
   "metadata": {},
   "outputs": [],
   "source": [
    "# Let's get a view of the data for highest tag and counts for each cell\n",
    "\n",
    "NUM_TOP_TAGS = 3\n",
    "\n",
    "count_columns = []\n",
    "columns = []\n",
    "\n",
    "for tag_index in range(NUM_TOP_TAGS):\n",
    "    count_column_name = \"Tag %i count\" % (tag_index + 1)\n",
    "    columns.append(\"Tag %i\" % (tag_index + 1))\n",
    "    columns.append(count_column_name)\n",
    "    \n",
    "columns.append(\"SD\")\n",
    "\n",
    "top_tags = pandas.DataFrame(columns=columns, index=top_cell_tag_counts.index)\n",
    "\n",
    "for cell_row in top_cell_tag_counts.iterrows():\n",
    "    cell_barcode = cell_row[0]\n",
    "    tag_counts = [(x[0], x[1]) for x in cell_row[1].items()]\n",
    "    sorted_tag_counts = sorted(tag_counts, key=lambda x: x[1], reverse=True)\n",
    "    \n",
    "    tag_count_row = []\n",
    "    \n",
    "    for tag, count in sorted_tag_counts[0:NUM_TOP_TAGS]:\n",
    "        tag_count_row.append(tag)\n",
    "        tag_count_row.append(count)\n",
    "        \n",
    "    tag_count_row.append(numpy.std([x[1] for x in sorted_tag_counts]))\n",
    "        \n",
    "    top_tags.loc[cell_barcode] = pandas.Series(tag_count_row, name=cell_barcode, index=columns)\n",
    "\n",
    "top_tags[\"FC\"] = ((new_df[\"Tag 1 count\"] + 1) / (new_df[\"Tag 2 count\"] + 1)).astype(numpy.float32)\n",
    "top_tags[\"L2FC\"] = numpy.log2(top_tags[\"FC\"])\n",
    "top_tags[\"Delta\"] = new_df[\"Tag 1 count\"] - new_df[\"Tag 2 count\"]"
   ]
  },
  {
   "cell_type": "code",
   "execution_count": null,
   "metadata": {},
   "outputs": [],
   "source": [
    "top_tags"
   ]
  },
  {
   "cell_type": "code",
   "execution_count": null,
   "metadata": {},
   "outputs": [],
   "source": [
    "plotting.plot_histogram(\n",
    "    top_tags[\"Delta\"],\n",
    "    interactive=True,\n",
    "    num_bins=100,\n",
    "    x_axis_title=\"Difference between top and 2nd tag\",\n",
    "    y_axis_title=\"# Cells\")"
   ]
  },
  {
   "cell_type": "code",
   "execution_count": null,
   "metadata": {},
   "outputs": [],
   "source": [
    "plotting.plot_histogram(\n",
    "    top_tags[\"FC\"],\n",
    "    interactive=True,\n",
    "    num_bins=500,\n",
    "    x_axis_title=\"FC between top and 2nd tag\",\n",
    "    y_axis_title=\"# Cells\")"
   ]
  },
  {
   "cell_type": "code",
   "execution_count": null,
   "metadata": {},
   "outputs": [],
   "source": [
    "plotting.plot_histogram(\n",
    "    top_tags[\"L2FC\"],\n",
    "    interactive=True,\n",
    "    num_bins=100,\n",
    "    x_axis_title=\"L2FC between top and 2nd tag\",\n",
    "    y_axis_title=\"# Cells\")"
   ]
  },
  {
   "cell_type": "code",
   "execution_count": null,
   "metadata": {},
   "outputs": [],
   "source": [
    "plotting.plot_histogram(\n",
    "    top_tags[\"SD\"],\n",
    "    interactive=True,\n",
    "    num_bins=100,\n",
    "    x_axis_title=\"Variance of tag counts\",\n",
    "    y_axis_title=\"# Cells\")"
   ]
  },
  {
   "cell_type": "markdown",
   "metadata": {},
   "source": [
    "## Get tag statistics based on a Fold Change cutoff"
   ]
  },
  {
   "cell_type": "code",
   "execution_count": null,
   "metadata": {},
   "outputs": [],
   "source": [
    "FC_CUTOFF = 5"
   ]
  },
  {
   "cell_type": "code",
   "execution_count": null,
   "metadata": {},
   "outputs": [],
   "source": [
    "tag_statistics = pandas.DataFrame(index=cell_tag_counts.columns, columns=[\"Num Cells\", \"Num Cells Top\", \"% Top Cells Valid\"])\n",
    "for tag in cell_tag_counts.columns:\n",
    "    tag_statistics.loc[tag][\"Num Cells\"] = cell_tag_counts[tag][cell_tag_counts[tag] > 0].shape[0]\n",
    "    tag_statistics.loc[tag][\"Num Cells Top\"] = top_tags[top_tags[\"Tag 1\"] == tag].shape[0]\n",
    "    tag_statistics.loc[tag][\"% Top Cells Valid\"] = top_tags[(top_tags[\"Tag 1\"] == tag) & (top_tags[\"FC\"] > FC_CUTOFF)].shape[0]\n",
    "    tag_statistics.loc[tag][\"% Top Cells Valid\"] = tag_statistics.loc[tag][\"% Top Cells Valid\"] / tag_statistics.loc[tag][\"Num Cells Top\"]\n",
    "    tag_statistics"
   ]
  }
 ],
 "metadata": {
  "kernelspec": {
   "display_name": "Python 3",
   "language": "python",
   "name": "python3"
  },
  "language_info": {
   "codemirror_mode": {
    "name": "ipython",
    "version": 3
   },
   "file_extension": ".py",
   "mimetype": "text/x-python",
   "name": "python",
   "nbconvert_exporter": "python",
   "pygments_lexer": "ipython3",
   "version": "3.6.7"
  }
 },
 "nbformat": 4,
 "nbformat_minor": 2
}
