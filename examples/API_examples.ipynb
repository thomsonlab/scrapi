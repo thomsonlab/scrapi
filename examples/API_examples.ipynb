{
 "cells": [
  {
   "cell_type": "code",
   "execution_count": null,
   "metadata": {},
   "outputs": [],
   "source": [
    "import requests\n",
    "import tables\n",
    "import io\n",
    "import scipy\n",
    "import numpy\n",
    "from scipy import sparse\n",
    "import pandas"
   ]
  },
  {
   "cell_type": "markdown",
   "metadata": {},
   "source": [
    "## Query data available"
   ]
  },
  {
   "cell_type": "code",
   "execution_count": null,
   "metadata": {},
   "outputs": [],
   "source": [
    "url = \"https://scrap.caltech.edu/references\"\n",
    "response = requests.get(url, verify=False)"
   ]
  },
  {
   "cell_type": "code",
   "execution_count": null,
   "metadata": {},
   "outputs": [],
   "source": [
    "reference_names = [ref[\"name\"] for ref in response.json()[\"references\"]]\n",
    "print(reference_names)"
   ]
  },
  {
   "cell_type": "code",
   "execution_count": null,
   "metadata": {},
   "outputs": [],
   "source": [
    "url = \"https://scrap.caltech.edu/samples\"\n",
    "response = requests.get(url, verify=False)"
   ]
  },
  {
   "cell_type": "code",
   "execution_count": null,
   "metadata": {},
   "outputs": [],
   "source": [
    "sample_names = [sample[\"name\"] for sample in response.json()[\"samples\"]]\n",
    "print(sample_names)"
   ]
  },
  {
   "cell_type": "markdown",
   "metadata": {},
   "source": [
    "## Access data programmatically"
   ]
  },
  {
   "cell_type": "code",
   "execution_count": null,
   "metadata": {},
   "outputs": [],
   "source": [
    "url = \"https://scrap.caltech.edu/transcripts_file?id=5b9ad17bab67490fee3ca30c&file=filtered_gene_bc_matrices_h5.h5&sample_id=5b9ad13c27614e14ddfc919c\"\n",
    "response = requests.get(url, verify=False)"
   ]
  },
  {
   "cell_type": "code",
   "execution_count": null,
   "metadata": {},
   "outputs": [],
   "source": [
    "h5file = tables.open_file(\"tmp.h5\", driver=\"H5FD_CORE\",\n",
    "                          driver_core_image=response.content,\n",
    "                          driver_core_backing_store=0)"
   ]
  },
  {
   "cell_type": "code",
   "execution_count": null,
   "metadata": {},
   "outputs": [],
   "source": [
    "barcodes = [barcode.decode(\"utf-8\") for barcode in h5file.root.hg19.barcodes.read()]\n",
    "print(barcodes[0:10])"
   ]
  },
  {
   "cell_type": "code",
   "execution_count": null,
   "metadata": {},
   "outputs": [],
   "source": [
    "gene_names = [gene.decode(\"utf-8\") for gene in h5file.root.hg19.gene_names.read()]\n",
    "print(gene_names[0:10])"
   ]
  },
  {
   "cell_type": "code",
   "execution_count": null,
   "metadata": {},
   "outputs": [],
   "source": [
    "h5file.root.hg19.data"
   ]
  },
  {
   "cell_type": "code",
   "execution_count": null,
   "metadata": {},
   "outputs": [],
   "source": [
    "data = sparse.csc_matrix((h5file.root.hg19.data.read(), h5file.root.hg19.indices.read(), h5file.root.hg19.indptr.read()), shape=h5file.root.hg19.shape.read())"
   ]
  },
  {
   "cell_type": "code",
   "execution_count": null,
   "metadata": {},
   "outputs": [],
   "source": [
    "data[0:100,0:100].toarray()"
   ]
  },
  {
   "cell_type": "code",
   "execution_count": null,
   "metadata": {},
   "outputs": [],
   "source": [
    "dataframe = pandas.DataFrame(data.toarray(), index=gene_names, columns=barcodes)"
   ]
  },
  {
   "cell_type": "code",
   "execution_count": null,
   "metadata": {},
   "outputs": [],
   "source": [
    "dataframe.head()"
   ]
  }
 ],
 "metadata": {
  "kernelspec": {
   "display_name": "Python 3",
   "language": "python",
   "name": "python3"
  },
  "language_info": {
   "codemirror_mode": {
    "name": "ipython",
    "version": 3
   },
   "file_extension": ".py",
   "mimetype": "text/x-python",
   "name": "python",
   "nbconvert_exporter": "python",
   "pygments_lexer": "ipython3",
   "version": "3.6.9"
  }
 },
 "nbformat": 4,
 "nbformat_minor": 2
}
